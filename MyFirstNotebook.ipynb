{
 "cells": [
  {
   "cell_type": "markdown",
   "metadata": {},
   "source": [
    "<center>\n",
    "    <img src=\"https://cf-courses-data.s3.us.cloud-object-storage.appdomain.cloud/IBMDeveloperSkillsNetwork-DS0105EN-SkillsNetwork/labs/Module2/images/SN_web_lightmode.png\" width=\"300\" alt=\"cognitiveclass.ai logo\">\n",
    "</center>\n"
   ]
  },
  {
   "cell_type": "markdown",
   "metadata": {},
   "source": [
    "#### Add your code below following the instructions given in the course\n"
   ]
  },
  {
   "cell_type": "markdown",
   "metadata": {},
   "source": [
    "## Exercise 2 - MyFirstNootbook. (1 pt)\n"
   ]
  },
  {
   "cell_type": "markdown",
   "metadata": {},
   "source": [
    "## Exercise 3 - Create a markdown cell for an introduction. (1 pt)\n",
    "This is Zaheer from Pakistan and in this course i am learning different kind of Data Science Tools"
   ]
  },
  {
   "cell_type": "markdown",
   "metadata": {},
   "source": [
    "## Exercise 4 - Create a markdown cell to list data science languages. (3 pts)\n",
    "\n",
    "1. Python\n",
    "2. R\n",
    "3. SQL\n",
    "4. Java\n",
    "5. Scala\n",
    "6. Julia\n",
    "7. SAS\n",
    "8. MATLAB\n",
    "9. Perl\n",
    "10. JavaScript\n",
    "11. Ruby\n",
    "12. C/C++\n",
    "13. Go"
   ]
  },
  {
   "cell_type": "markdown",
   "metadata": {
    "tags": []
   },
   "source": [
    "## Exercise 5 - Create a markdown cell to list data science libraries. (3 pts)\n",
    "\n",
    "1. NumPy: For numerical computing and array operations.\n",
    "2. pandas: For data manipulation and analysis.\n",
    "3. scikit-learn: For machine learning and data mining.\n",
    "4. Matplotlib: For data visualization.\n",
    "5. TensorFlow: For deep learning and neural networks.\n",
    "6. Keras: High-level API for neural networks (often used with TensorFlow).\n",
    "7. PyTorch: For deep learning and neural networks.\n",
    "8. SciPy: For scientific and technical computing.\n",
    "9. Seaborn: For statistical data visualization.\n",
    "10. Statsmodels: For statistical modeling and hypothesis testing."
   ]
  },
  {
   "cell_type": "markdown",
   "metadata": {},
   "source": [
    "## Exercise 6 - Create a markdown cell with a table of Data Science tools. (3 pts)\n",
    "\n",
    "| Tool                 | Description                                       |\n",
    "|----------------------|---------------------------------------------------|\n",
    "| **Languages**        |                                                   |\n",
    "| Python               | General-purpose language for data science.       |\n",
    "| R                    | Statistical computing and graphics.              |\n",
    "| SQL                  | Query language for relational databases.         |\n",
    "| Java                 | Used for big data processing.                    |\n",
    "| **Libraries**        |                                                   |\n",
    "| NumPy                | Numerical computing and array operations (Python).|\n",
    "| pandas               | Data manipulation and analysis (Python).         |\n",
    "| scikit-learn         | Machine learning and data mining (Python).       |\n",
    "| Matplotlib           | Data visualization (Python).                     |\n",
    "| TensorFlow           | Deep learning and neural networks (Python).      |\n",
    "| Keras                | High-level neural network API (Python).          |\n",
    "| PyTorch              | Deep learning and neural networks (Python).      |\n",
    "| SciPy                | Scientific and technical computing (Python).     |\n",
    "| Seaborn              | Statistical data visualization (Python).         |\n",
    "| Statsmodels          | Statistical modeling and hypothesis testing (Python).|\n",
    "| **Big Data**         |                                                   |\n",
    "| Apache Hadoop        | Distributed storage and processing framework.    |\n",
    "| Apache Spark         | Cluster computing for big data.                  |\n",
    "| Apache Flink         | Stream processing and batch processing (Java/Scala).|\n",
    "| **Database Systems** |                                                   |\n",
    "| PostgreSQL           | Open-source relational database system.          |\n",
    "| MySQL                | Relational database management system.           |\n",
    "| MongoDB              | NoSQL document database.                         |\n",
    "| Redis                | In-memory data store.                            |\n",
    "| **Data Visualization**|                                                  |\n",
    "| Tableau              | Business intelligence and data visualization tool.|\n",
    "| Power BI             | Business analytics and data visualization tool.  |\n",
    "| D3.js                | JavaScript library for interactive data visuals. |\n",
    "| **Other Tools**      |                                                   |\n",
    "| Jupyter Notebook     | Interactive computing environment.               |\n",
    "| Apache Zeppelin      | Web-based notebook for data analytics.           |\n",
    "| KNIME                | Open-source data analytics platform.             |\n",
    "| RapidMiner           | Data science platform for analytics and modeling.|\n",
    "| SAS                  | Statistical analysis and business intelligence.  |\n",
    "| IBM SPSS             | Statistical analysis software.                   |\n"
   ]
  },
  {
   "cell_type": "markdown",
   "metadata": {},
   "source": [
    "## Exercise 7 - Create a markdown cell introducing arithmetic expression examples. (1 pt)\n",
    "- **Addition**: Adding two or more numbers together.\n",
    "  - Example: `3 + 5 = 8`\n",
    "\n",
    "- **Subtraction**: Finding the difference between two numbers.\n",
    "  - Example: `10 - 4 = 6`\n",
    "\n",
    "- **Multiplication**: Multiplying two or more numbers together.\n",
    "  - Example: `6 * 7 = 42`\n",
    "\n",
    "- **Division**: Dividing one number by another.\n",
    "  - Example: `20 / 4 = 5`\n",
    "\n",
    "- **Exponentiation**: Raising a number to a power.\n",
    "  - Example: `2^3 = 8` (2 raised to the power of 3)\n",
    "\n",
    "- **Modulus**: Finding the remainder after division.\n",
    "  - Example: `15 % 4 = 3` (remainder when 15 is divided by 4)"
   ]
  },
  {
   "cell_type": "markdown",
   "metadata": {
    "tags": []
   },
   "source": [
    "## Exercise 8 - Create a code cell to multiply and add numbers. (2 pts)"
   ]
  },
  {
   "cell_type": "code",
   "execution_count": 2,
   "metadata": {
    "tags": []
   },
   "outputs": [
    {
     "name": "stdout",
     "output_type": "stream",
     "text": [
      "3+5 = 8\n",
      "10 - 4 = 6\n",
      "6 * 7 = 42\n",
      "20 / 4 = 5.0\n",
      "2^3 = 1\n"
     ]
    }
   ],
   "source": [
    "print(\"3+5 =\",3+5)\n",
    "print(\"10 - 4 =\",10-4)\n",
    "print(\"6 * 7 =\",6*7)\n",
    "print(\"20 / 4 =\",20 / 4)\n",
    "print(\"2^3 =\",2^3)"
   ]
  },
  {
   "cell_type": "markdown",
   "metadata": {},
   "source": [
    "## Exercise 9 - Create a code cell to convert minutes to hours. (2 pts)"
   ]
  },
  {
   "cell_type": "code",
   "execution_count": 3,
   "metadata": {
    "tags": []
   },
   "outputs": [
    {
     "name": "stdout",
     "output_type": "stream",
     "text": [
      "Total Hours:  6.0\n"
     ]
    }
   ],
   "source": [
    "mins=360\n",
    "hr=mins/60\n",
    "print(\"Total Hours: \",hr)"
   ]
  },
  {
   "cell_type": "markdown",
   "metadata": {},
   "source": [
    "## Exercise 10 -Insert a markdown cell to list Objectives. (3 pts)\n",
    "1. to learn data Science and its tools to understand data science"
   ]
  },
  {
   "cell_type": "markdown",
   "metadata": {},
   "source": [
    "## Exercise 11 - Create a markdown cell to indicate the Author’s name. (2 pts)\n",
    "Auther name is Zaheer A. Gondal"
   ]
  },
  {
   "cell_type": "markdown",
   "metadata": {},
   "source": [
    "## Exercise 12 - Share your notebook through GitHub (3 pts)\n",
    "\n",
    "https://github.com/zaheeeer/my-data-analysis"
   ]
  },
  {
   "cell_type": "markdown",
   "metadata": {},
   "source": [
    "## Exercise 13 - Take a screenshot of the first page of the notebook. (1 pt)\n",
    "SCREEN SHOT TAKEN BUT COULD NOT SHARE IT ON NOTEBOOK"
   ]
  }
 ],
 "metadata": {
  "kernelspec": {
   "display_name": "Python",
   "language": "python",
   "name": "conda-env-python-py"
  },
  "language_info": {
   "codemirror_mode": {
    "name": "ipython",
    "version": 3
   },
   "file_extension": ".py",
   "mimetype": "text/x-python",
   "name": "python",
   "nbconvert_exporter": "python",
   "pygments_lexer": "ipython3",
   "version": "3.7.12"
  }
 },
 "nbformat": 4,
 "nbformat_minor": 4
}
